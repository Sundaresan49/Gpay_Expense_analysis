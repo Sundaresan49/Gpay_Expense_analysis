{
 "cells": [
  {
   "cell_type": "markdown",
   "id": "0211c69e-a172-4f29-b53f-1937dc3fe7ee",
   "metadata": {},
   "source": [
    "# Project: Google pay Expense Sharing"
   ]
  },
  {
   "cell_type": "markdown",
   "id": "2128ee66-ac6b-4181-896f-fcb29129ab33",
   "metadata": {},
   "source": [
    "Bussiness Use case: Friends want to easily track shared expenses and settle debts using a simple tool similar to Google Pay"
   ]
  },
  {
   "cell_type": "markdown",
   "id": "c0827d8a-a2ad-4df6-8e94-1d11c6b56052",
   "metadata": {},
   "source": [
    "Description:Create a python Program that helps friends manage shared expenses and calculate who owes whom.Suppose there are three friends\n",
    "Alice,Bob and Carol.THey went on a trup and shared expenses for accomodation and meals.The Program will allow them to input these expenses\n",
    "cakculate how much each person needs to pay or be reimbured and display the final settlement amounts"
   ]
  },
  {
   "cell_type": "code",
   "execution_count": 22,
   "id": "9aa3f9c9-ea75-452c-a2d1-c5b9583185ac",
   "metadata": {},
   "outputs": [],
   "source": [
    "class ExpenseSharing:  # Fixed class name typo from \"ExoenseSharing\" to \"ExpenseSharing\"\n",
    "    def __init__(self, friends):  # Fixed method name from \"__int__\" to \"__init__\"\n",
    "        self.friends = friends\n",
    "        self.expenses = {friend: 0 for friend in friends}\n",
    "        \n",
    "    def add_expense(self, payer, amount, participants):\n",
    "        split_amount = amount / len(participants)\n",
    "        for participant in participants:\n",
    "            if participant != payer:  # Fixed comparison operator from \"=\" to \"==\"\n",
    "                self.expenses[participant] += split_amount\n",
    "                self.expenses[payer] -= split_amount  # Fixed typo \"expeenses\" to \"expenses\"\n",
    "                \n",
    "    def calculate_settlement(self):\n",
    "        for friend, balance in self.expenses.items():\n",
    "            if balance > 0:\n",
    "                print(f\"{friend} needs to be reimbursed: Rs.{balance:.2f}\")  # Added missing space\n",
    "            elif balance < 0:\n",
    "                print(f\"{friend} owes: Rs.{-balance:.2f}\")  # Fixed syntax error with curly braces\n",
    "            else:\n",
    "                print(f\"{friend} is settled up.\")"
   ]
  },
  {
   "cell_type": "code",
   "execution_count": 28,
   "id": "fcb75c83-0896-4e29-b3bc-d39d30602738",
   "metadata": {},
   "outputs": [
    {
     "name": "stdout",
     "output_type": "stream",
     "text": [
      "\n",
      "Final Settlement:\n",
      "Alice owes: Rs.400.00\n",
      "Bob needs to be reimbursed: Rs.100.00\n",
      "Carol needs to be reimbursed: Rs.300.00\n"
     ]
    }
   ],
   "source": [
    "if __name__ == \"__main__\":\n",
    "    friends=[\"Alice\",\"Bob\",\"Carol\"]\n",
    "    expense_sharing=ExpenseSharing(friends)\n",
    "    expense_sharing.add_expense(\"Alice\",900,[\"Alice\",\"Bob\",\"Carol\"])\n",
    "    # Removed the extra \"Alice\" parameter - the method expects (payer, amount, participants)\n",
    "    expense_sharing.add_expense(\"Bob\",300,[\"Alice\",\"Bob\",\"Carol\"])\n",
    "    # Fixed capitalization of \"carol\" to match the friends list\n",
    "    expense_sharing.add_expense(\"Carol\",200,[\"Alice\",\"Carol\"])\n",
    "    print(\"\\nFinal Settlement:\")\n",
    "    expense_sharing.calculate_settlement()"
   ]
  },
  {
   "cell_type": "code",
   "execution_count": 6,
   "id": "31353c50-0ad5-4354-aa62-597f1f9ca396",
   "metadata": {},
   "outputs": [],
   "source": [
    "class ExpenseSharing:\n",
    "    def __init__(self, friends):\n",
    "        self.friends = friends\n",
    "        # Initialize balances instead of expenses, since that's what's used in other methods\n",
    "        self.balances = {friend: 0 for friend in friends}\n",
    "        \n",
    "    def add_expense(self, payer, amount, participants):\n",
    "        split_amount = amount/len(participants)\n",
    "        for participant in participants:\n",
    "            self.balances[participant] -= split_amount\n",
    "        self.balances[payer] += amount\n",
    "        \n",
    "    def calculate_settlement(self):\n",
    "        creditors = []\n",
    "        debtors = []\n",
    "        # Fixed typo: self.balance -> self.balances\n",
    "        for friend, balance in self.balances.items():\n",
    "            if balance > 0:\n",
    "                creditors.append((friend, balance))\n",
    "            elif balance < 0:\n",
    "                # Fixed typo: fruebd -> friend\n",
    "                debtors.append((friend, -balance))\n",
    "                \n",
    "        while debtors and creditors:\n",
    "            debtor, debt_amount = debtors.pop()\n",
    "            creditor, credit_amount = creditors.pop()\n",
    "            payment = min(debt_amount, credit_amount)\n",
    "            print(f\"{debtor} owes {creditor}: Rs.{payment:.2f}\")\n",
    "            if debt_amount > payment:\n",
    "                debtors.append((debtor, debt_amount-payment))\n",
    "            if credit_amount > payment:\n",
    "                creditors.append((creditor, credit_amount-payment))"
   ]
  },
  {
   "cell_type": "code",
   "execution_count": 7,
   "id": "9eb8cb91-01ba-4ea0-9327-ab3053568b48",
   "metadata": {},
   "outputs": [
    {
     "name": "stdout",
     "output_type": "stream",
     "text": [
      "\n",
      "Final Settlement:\n",
      "Carol owes Alice: Rs.300.00\n",
      "Bob owes Alice: Rs.100.00\n"
     ]
    }
   ],
   "source": [
    "if __name__==\"__main__\":\n",
    "    friends=[\"Alice\",\"Bob\",\"Carol\"]\n",
    "    expense_sharing=ExpenseSharing(friends)\n",
    "    expense_sharing.add_expense(\"Alice\",900,[\"Alice\",\"Bob\",\"Carol\"])\n",
    "    # Removed the extra \"Alice\" parameter - the method expects (payer, amount, participants)\n",
    "    expense_sharing.add_expense(\"Bob\",300,[\"Alice\",\"Bob\",\"Carol\"])\n",
    "    # Fixed capitalization of \"carol\" to match the friends list\n",
    "    expense_sharing.add_expense(\"Carol\",200,[\"Alice\",\"Carol\"])\n",
    "    print(\"\\nFinal Settlement:\")\n",
    "    expense_sharing.calculate_settlement()"
   ]
  },
  {
   "cell_type": "code",
   "execution_count": 28,
   "id": "7db27e62-951a-4850-90b7-a1cf10da2ab4",
   "metadata": {},
   "outputs": [
    {
     "name": "stdin",
     "output_type": "stream",
     "text": [
      "Enter the names of friends,seperated by commas Sundar,Abi\n",
      "Enter the name of the person who paid( of 'done' to finish): done\n"
     ]
    },
    {
     "name": "stdout",
     "output_type": "stream",
     "text": [
      "\n",
      " FInal Settlement\n"
     ]
    }
   ],
   "source": [
    "if __name__==\"__main__\" :\n",
    "    friends=input(\"Enter the names of friends,seperated by commas\").split(',')\n",
    "    friends=[friend.strip() for friend in friends]\n",
    "    expense_sharing=ExpenseSharing(friends)\n",
    "    while True:\n",
    "        payer=input(\"Enter the name of the person who paid( of 'done' to finish):\")\n",
    "        if payer.lower()==\"done\":\n",
    "            break\n",
    "        amount=float(input(\"Enter the amount paid:\"))\n",
    "        participants = input(\"Enter the names of participants, separated by commas: \").split(',')\n",
    "        participants=[participant.strip() for participant in participants] \n",
    "        expense_sharing.add_expense(payer,amount,participants)\n",
    "    print(\"\\n FInal Settlement\")\n",
    "    expense_sharing.calculate_settlement()"
   ]
  },
  {
   "cell_type": "code",
   "execution_count": null,
   "id": "706a7cf0-cb89-493f-b523-e74285e003a2",
   "metadata": {},
   "outputs": [],
   "source": []
  }
 ],
 "metadata": {
  "kernelspec": {
   "display_name": "Python [conda env:base] *",
   "language": "python",
   "name": "conda-base-py"
  },
  "language_info": {
   "codemirror_mode": {
    "name": "ipython",
    "version": 3
   },
   "file_extension": ".py",
   "mimetype": "text/x-python",
   "name": "python",
   "nbconvert_exporter": "python",
   "pygments_lexer": "ipython3",
   "version": "3.12.7"
  }
 },
 "nbformat": 4,
 "nbformat_minor": 5
}
